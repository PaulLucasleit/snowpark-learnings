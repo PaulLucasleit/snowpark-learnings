{
 "cells": [
  {
   "cell_type": "code",
   "execution_count": 1,
   "id": "9f930e89-4643-4890-9811-dbfad1696ce5",
   "metadata": {},
   "outputs": [],
   "source": [
    "# Add module folder to notebook\n",
    "import os\n",
    "import sys\n",
    "import pandas\n",
    "\n",
    "from dotenv import find_dotenv\n",
    "sys.path.append(os.path.dirname(find_dotenv()))"
   ]
  },
  {
   "cell_type": "code",
   "execution_count": 2,
   "id": "c9f2a39a-7b86-4351-9067-9969a6cb069b",
   "metadata": {},
   "outputs": [],
   "source": [
    "from snowflake.snowpark import functions\n",
    "import datetime\n",
    "\n",
    "from app.snowpark_session.session import snowpark_session"
   ]
  },
  {
   "cell_type": "code",
   "execution_count": 3,
   "id": "3be21d64-4442-466c-921d-a1df0cb51647",
   "metadata": {},
   "outputs": [],
   "source": [
    "session = snowpark_session()"
   ]
  },
  {
   "cell_type": "code",
   "execution_count": 4,
   "id": "3cb8a59f-8f55-4886-9798-4d55c1a8f39a",
   "metadata": {},
   "outputs": [
    {
     "data": {
      "text/plain": [
       "[Row(status='Database HOL_DB successfully created.')]"
      ]
     },
     "execution_count": 4,
     "metadata": {},
     "output_type": "execute_result"
    }
   ],
   "source": [
    "# Create Databse\n",
    "session.sql(\"CREATE OR REPLACE DATABASE HOL_DB\").collect()"
   ]
  },
  {
   "cell_type": "markdown",
   "id": "18c77118-9153-439b-a3c2-a5eb63e86416",
   "metadata": {},
   "source": [
    "### Load Data into Snowflake"
   ]
  },
  {
   "cell_type": "code",
   "execution_count": 5,
   "id": "11c49779-cc06-487a-8a08-655311f7bf2e",
   "metadata": {},
   "outputs": [],
   "source": [
    "# Loading from local CSV-files\n",
    "application_record_df = pandas.read_csv('data/application_record.csv.zip')\n",
    "credit_record_df = pandas.read_csv('data/credit_record.csv.zip')"
   ]
  },
  {
   "cell_type": "code",
   "execution_count": 6,
   "id": "da4a51ca-cd06-40de-b598-97e2a41cd68c",
   "metadata": {},
   "outputs": [
    {
     "data": {
      "text/plain": [
       "<snowflake.snowpark.table.Table at 0x1d4675f0e50>"
      ]
     },
     "execution_count": 6,
     "metadata": {},
     "output_type": "execute_result"
    }
   ],
   "source": [
    "# Upload to Snowflake\n",
    "session.write_pandas(application_record_df, table_name='APPLICATION_RECORD', auto_create_table=True, overwrite=True)\n",
    "session.write_pandas(credit_record_df, table_name='CREDIT_RECORD', auto_create_table=True, overwrite=True)"
   ]
  },
  {
   "cell_type": "code",
   "execution_count": 7,
   "id": "267ce8ea-8c84-4670-9358-7c70d3327718",
   "metadata": {},
   "outputs": [],
   "source": [
    "session.close()"
   ]
  }
 ],
 "metadata": {
  "kernelspec": {
   "display_name": "Python 3 (ipykernel)",
   "language": "python",
   "name": "python3"
  },
  "language_info": {
   "codemirror_mode": {
    "name": "ipython",
    "version": 3
   },
   "file_extension": ".py",
   "mimetype": "text/x-python",
   "name": "python",
   "nbconvert_exporter": "python",
   "pygments_lexer": "ipython3",
   "version": "3.9.0rc2"
  }
 },
 "nbformat": 4,
 "nbformat_minor": 5
}
