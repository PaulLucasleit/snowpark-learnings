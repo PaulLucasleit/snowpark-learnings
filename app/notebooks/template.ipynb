{
 "cells": [
  {
   "cell_type": "code",
   "execution_count": 1,
   "id": "9f930e89-4643-4890-9811-dbfad1696ce5",
   "metadata": {},
   "outputs": [],
   "source": [
    "# Add module folder to notebook\n",
    "import os\n",
    "import sys\n",
    "\n",
    "from dotenv import find_dotenv\n",
    "sys.path.append(os.path.dirname(find_dotenv()))"
   ]
  },
  {
   "cell_type": "code",
   "execution_count": 23,
   "id": "c9f2a39a-7b86-4351-9067-9969a6cb069b",
   "metadata": {},
   "outputs": [],
   "source": [
    "from snowflake.snowpark import functions\n",
    "import datetime\n",
    "\n",
    "from app.snowpark_session.session import snowpark_session"
   ]
  },
  {
   "cell_type": "code",
   "execution_count": 3,
   "id": "3be21d64-4442-466c-921d-a1df0cb51647",
   "metadata": {},
   "outputs": [],
   "source": [
    "sp_session = snowpark_session()"
   ]
  }
 ],
 "metadata": {
  "kernelspec": {
   "display_name": "Python 3 (ipykernel)",
   "language": "python",
   "name": "python3"
  },
  "language_info": {
   "codemirror_mode": {
    "name": "ipython",
    "version": 3
   },
   "file_extension": ".py",
   "mimetype": "text/x-python",
   "name": "python",
   "nbconvert_exporter": "python",
   "pygments_lexer": "ipython3",
   "version": "3.9.0rc2"
  }
 },
 "nbformat": 4,
 "nbformat_minor": 5
}
